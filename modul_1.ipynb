{
 "cells": [
  {
   "cell_type": "code",
   "execution_count": 4,
   "metadata": {},
   "outputs": [],
   "source": [
    "name = 'Алексей'"
   ]
  },
  {
   "cell_type": "code",
   "execution_count": 5,
   "metadata": {},
   "outputs": [
    {
     "name": "stdout",
     "output_type": "stream",
     "text": [
      "Сегодня Вас зовут Алексей\n"
     ]
    }
   ],
   "source": [
    "print(\"Сегодня Вас зовут \"+name)"
   ]
  },
  {
   "cell_type": "code",
   "execution_count": 6,
   "metadata": {},
   "outputs": [
    {
     "data": {
      "text/plain": [
       "13"
      ]
     },
     "execution_count": 6,
     "metadata": {},
     "output_type": "execute_result"
    }
   ],
   "source": [
    "word = 'Очаровательно'\n",
    "len(word)"
   ]
  },
  {
   "cell_type": "code",
   "execution_count": 7,
   "metadata": {},
   "outputs": [
    {
     "data": {
      "text/plain": [
       "str"
      ]
     },
     "execution_count": 7,
     "metadata": {},
     "output_type": "execute_result"
    }
   ],
   "source": [
    "type(word)"
   ]
  },
  {
   "cell_type": "code",
   "execution_count": 8,
   "metadata": {},
   "outputs": [],
   "source": [
    "x = 1"
   ]
  },
  {
   "cell_type": "code",
   "execution_count": 9,
   "metadata": {},
   "outputs": [
    {
     "data": {
      "text/plain": [
       "int"
      ]
     },
     "execution_count": 9,
     "metadata": {},
     "output_type": "execute_result"
    }
   ],
   "source": [
    "type(x)"
   ]
  },
  {
   "cell_type": "code",
   "execution_count": 10,
   "metadata": {},
   "outputs": [
    {
     "data": {
      "text/plain": [
       "13"
      ]
     },
     "execution_count": 10,
     "metadata": {},
     "output_type": "execute_result"
    }
   ],
   "source": [
    "int(len(word))"
   ]
  },
  {
   "cell_type": "code",
   "execution_count": 11,
   "metadata": {},
   "outputs": [
    {
     "name": "stdout",
     "output_type": "stream",
     "text": [
      "2\n"
     ]
    }
   ],
   "source": [
    "a = 117\n",
    "b = 23\n",
    "c = a // b\n",
    "d = c * b\n",
    "x = a - d\n",
    "print(x)"
   ]
  },
  {
   "cell_type": "code",
   "execution_count": 12,
   "metadata": {},
   "outputs": [
    {
     "name": "stdout",
     "output_type": "stream",
     "text": [
      "2\n"
     ]
    }
   ],
   "source": [
    "a = 117\n",
    "b = 23\n",
    "print(a % b)"
   ]
  },
  {
   "cell_type": "code",
   "execution_count": 13,
   "metadata": {},
   "outputs": [
    {
     "data": {
      "text/plain": [
       "13"
      ]
     },
     "execution_count": 13,
     "metadata": {},
     "output_type": "execute_result"
    }
   ],
   "source": [
    "word = 'Очаровательно'\n",
    "int(len(word))"
   ]
  },
  {
   "cell_type": "code",
   "execution_count": 14,
   "metadata": {},
   "outputs": [
    {
     "name": "stdout",
     "output_type": "stream",
     "text": [
      "17.213006207263156\n"
     ]
    }
   ],
   "source": [
    "a = 12\n",
    "b = 17\n",
    "c = 25\n",
    "z = a * b * c\n",
    "x = z**(1/3)\n",
    "print(x)"
   ]
  },
  {
   "cell_type": "code",
   "execution_count": 1,
   "metadata": {},
   "outputs": [
    {
     "name": "stdout",
     "output_type": "stream",
     "text": [
      "113628013506.996\n"
     ]
    }
   ],
   "source": [
    "x = 100500\n",
    "z = 6.996 +(45*((x/2)**2)) + 2*x\n",
    "print (z)"
   ]
  },
  {
   "cell_type": "code",
   "execution_count": 16,
   "metadata": {},
   "outputs": [
    {
     "name": "stdout",
     "output_type": "stream",
     "text": [
      "24.691358024691358\n"
     ]
    }
   ],
   "source": [
    "weight = 80\n",
    "height = 1.8\n",
    "x = weight / (height**2)\n",
    "print(x)"
   ]
  },
  {
   "cell_type": "code",
   "execution_count": 17,
   "metadata": {},
   "outputs": [
    {
     "name": "stdout",
     "output_type": "stream",
     "text": [
      "5.209745039548078\n"
     ]
    }
   ],
   "source": [
    "a = 270\n",
    "b = 12.8\n",
    "x = ((a+b)/2)**(1/3)\n",
    "print(x)"
   ]
  },
  {
   "cell_type": "code",
   "execution_count": 18,
   "metadata": {},
   "outputs": [
    {
     "name": "stdout",
     "output_type": "stream",
     "text": [
      "Вы ввели число, которое при умножении на 3 даёт 69\n"
     ]
    }
   ],
   "source": [
    "a = 23\n",
    "x = a * 3\n",
    "print(\"Вы ввели число, которое при умножении на 3 даёт\",x)"
   ]
  },
  {
   "cell_type": "code",
   "execution_count": 19,
   "metadata": {},
   "outputs": [
    {
     "name": "stdout",
     "output_type": "stream",
     "text": [
      "8.88748820522211\n"
     ]
    }
   ],
   "source": [
    "string_1 = 'Hello, world!'\n",
    "string_2 = 'Python <3'\n",
    "string_3 = 'qwerty'\n",
    "a = int(len(string_1))\n",
    "b = int(len(string_2))\n",
    "c = int(len(string_3))\n",
    "x = (a*b*c)**(1/3)\n",
    "print(x)"
   ]
  },
  {
   "cell_type": "code",
   "execution_count": 20,
   "metadata": {},
   "outputs": [
    {
     "name": "stdout",
     "output_type": "stream",
     "text": [
      "Привет! 7 16807\n"
     ]
    }
   ],
   "source": [
    "string = 'Привет!'\n",
    "power = 5\n",
    "a = int(len(string))\n",
    "z = a**power\n",
    "print(string,a,z)"
   ]
  },
  {
   "cell_type": "code",
   "execution_count": 21,
   "metadata": {},
   "outputs": [
    {
     "data": {
      "text/plain": [
       "13"
      ]
     },
     "execution_count": 21,
     "metadata": {},
     "output_type": "execute_result"
    }
   ],
   "source": [
    "word = 'Очаровательно'\n",
    "len(word)"
   ]
  },
  {
   "cell_type": "code",
   "execution_count": 22,
   "metadata": {},
   "outputs": [
    {
     "name": "stdout",
     "output_type": "stream",
     "text": [
      "Число чётное\n"
     ]
    }
   ],
   "source": [
    "a = 4\n",
    "if a % 2 == 0:\n",
    "    print('Число чётное')"
   ]
  },
  {
   "cell_type": "code",
   "execution_count": 23,
   "metadata": {},
   "outputs": [
    {
     "name": "stdout",
     "output_type": "stream",
     "text": [
      "Это слово длинное.\n"
     ]
    }
   ],
   "source": [
    "word = 'ОченьДлинноеСлово'\n",
    "a = int(len(word))\n",
    "if a > 7:\n",
    "    print(\"Это слово длинное.\")\n",
    "else:\n",
    "    print(\"Это слово короткое.\")"
   ]
  },
  {
   "cell_type": "code",
   "execution_count": 24,
   "metadata": {},
   "outputs": [
    {
     "name": "stdout",
     "output_type": "stream",
     "text": [
      "Выбранная буква есть в введённом слове\n"
     ]
    }
   ],
   "source": [
    "word = 'ОченьДлинноеСлово'\n",
    "letter = 'и'\n",
    "if letter in word:\n",
    "    print(\"Выбранная буква есть в введённом слове\")\n",
    "else:\n",
    "    print(\"Выбранной буквы нет в введённом слове\")"
   ]
  },
  {
   "cell_type": "code",
   "execution_count": 25,
   "metadata": {},
   "outputs": [
    {
     "name": "stdout",
     "output_type": "stream",
     "text": [
      "13\n"
     ]
    }
   ],
   "source": [
    "number = 169\n",
    "a = number**(1/2)\n",
    "b = str(a)\n",
    "c = int(a)\n",
    "if '.0' in b:\n",
    "    print(c)\n",
    "else:\n",
    "    print(\"åç корень из\",number,\"- не целое число\")"
   ]
  },
  {
   "cell_type": "code",
   "execution_count": 26,
   "metadata": {},
   "outputs": [
    {
     "data": {
      "text/plain": [
       "str"
      ]
     },
     "execution_count": 26,
     "metadata": {},
     "output_type": "execute_result"
    }
   ],
   "source": [
    "number = 169\n",
    "a = str(number**(1/2))\n",
    "type(a)"
   ]
  },
  {
   "cell_type": "code",
   "execution_count": 27,
   "metadata": {},
   "outputs": [
    {
     "name": "stdout",
     "output_type": "stream",
     "text": [
      "пятница\n"
     ]
    }
   ],
   "source": [
    "number = 5\n",
    "if number == 1:\n",
    "    print(\"понедельник \")\n",
    "elif  number == 2:\n",
    "    print(\"вторник\")\n",
    "elif  number == 3:\n",
    "    print(\"среда\")\n",
    "elif  number == 4:\n",
    "    print(\"четверг\")\n",
    "elif  number == 5:\n",
    "    print(\"пятница\")\n",
    "elif  number == 6:\n",
    "    print(\"суббота\")\n",
    "else:\n",
    "    print(\"воскресенье\")"
   ]
  },
  {
   "cell_type": "code",
   "execution_count": 28,
   "metadata": {},
   "outputs": [
    {
     "name": "stdout",
     "output_type": "stream",
     "text": [
      "Норма\n"
     ]
    }
   ],
   "source": [
    "weight = 80\n",
    "height=1.8\n",
    "x = weight/(height**2)\n",
    "if x < 18.5:\n",
    "    print(\"Недостаточная масса тела\")\n",
    "elif x > 24.99:\n",
    "    print(\"Избыточная масса тела\")\n",
    "else:\n",
    "    print(\"Норма\")"
   ]
  },
  {
   "cell_type": "code",
   "execution_count": 29,
   "metadata": {},
   "outputs": [
    {
     "name": "stdout",
     "output_type": "stream",
     "text": [
      "хорошо\n"
     ]
    }
   ],
   "source": [
    "mark = 7\n",
    "if mark > 8:\n",
    "    print(\"отлично\")\n",
    "elif mark > 6:\n",
    "    print(\"хорошо\")\n",
    "elif mark > 4:\n",
    "    print(\"удовлетворительно\")\n",
    "else:\n",
    "    print(\"неудовлетворительно\")"
   ]
  },
  {
   "cell_type": "code",
   "execution_count": 30,
   "metadata": {},
   "outputs": [
    {
     "name": "stdout",
     "output_type": "stream",
     "text": [
      "Придётся потерпеть!\n"
     ]
    }
   ],
   "source": [
    "balance = 455\n",
    "if balance > 5000:\n",
    "    print(\"Сегодня твой выбор - ресторан!\")\n",
    "elif balance > 2500:\n",
    "    print(\"Эх, только фастфуд.\")\n",
    "else:\n",
    "    print(\"Придётся потерпеть!\")"
   ]
  },
  {
   "cell_type": "code",
   "execution_count": 31,
   "metadata": {},
   "outputs": [
    {
     "name": "stdout",
     "output_type": "stream",
     "text": [
      "Число делится на 2 без остатка.\n"
     ]
    }
   ],
   "source": [
    "number = 452\n",
    "a = str(number/2)\n",
    "b = str(number/3)\n",
    "c = str(number/5)\n",
    "if '.0' in a:\n",
    "    print(\"Число делится на 2 без остатка.\")\n",
    "elif '.0' in b:\n",
    "    print(\"Число делится на 3 без остатка.\")\n",
    "elif '.0' in c:\n",
    "    print(\"Число делится на 5 без остатка.\")\n",
    "else:\n",
    "    print(\"Число не делится ни на 2, ни на 3, ни на 5 без остатка!\")"
   ]
  },
  {
   "cell_type": "code",
   "execution_count": 32,
   "metadata": {},
   "outputs": [
    {
     "name": "stdout",
     "output_type": "stream",
     "text": [
      "Аня не фанат таких цветов\n"
     ]
    }
   ],
   "source": [
    "flower = 'роза'\n",
    "color = 'фиолетовый'\n",
    "if 'синий' in color or 'белый' in color and 'роза' in flower:\n",
    "    print(\"Ане понравятся эти цветы\")\n",
    "else:\n",
    "    print(\"Аня не фанат таких цветов\")"
   ]
  },
  {
   "cell_type": "code",
   "execution_count": 33,
   "metadata": {},
   "outputs": [
    {
     "name": "stdout",
     "output_type": "stream",
     "text": [
      "опробуем поискать ещё...\n"
     ]
    }
   ],
   "source": [
    "height = 180\n",
    "weight = 92\n",
    "color = 'синий'\n",
    "if height > 170 and weight < 80 and 'красный' in color:\n",
    "    print(\"Ваша половинка нашлась!\")\n",
    "else:\n",
    "    print(\"опробуем поискать ещё...\")\n",
    "color = 'синий'"
   ]
  },
  {
   "cell_type": "code",
   "execution_count": 34,
   "metadata": {},
   "outputs": [
    {
     "name": "stdout",
     "output_type": "stream",
     "text": [
      "Вова, это нужное число\n"
     ]
    }
   ],
   "source": [
    "number = 346\n",
    "a = number % 2\n",
    "b = number % 5\n",
    "c = number % 173\n",
    "d = number % 821\n",
    "if a == 0 or b == 0 or c == 0 or d == 0:\n",
    "    print(\"Вова, это нужное число\")\n",
    "else:\n",
    "    print(\"Вова, в этот раз ты не попал\")"
   ]
  },
  {
   "cell_type": "code",
   "execution_count": 35,
   "metadata": {},
   "outputs": [
    {
     "name": "stdout",
     "output_type": "stream",
     "text": [
      "Python\n"
     ]
    }
   ],
   "source": [
    "fav_word = 'Аппликация'\n",
    "if 'рептилия' in fav_word or 'питон' in fav_word or 'змея' in fav_word:\n",
    "    print(\"Python\")\n",
    "elif 'плюс' in fav_word or 'плюсы' in fav_word:\n",
    "    print(\"C++\")\n",
    "elif 'рубин' in fav_word or 'кристалл' in fav_word:\n",
    "    print(\"Ruby\")\n",
    "else:\n",
    "    print(\"Python\")"
   ]
  },
  {
   "cell_type": "code",
   "execution_count": 36,
   "metadata": {},
   "outputs": [
    {
     "name": "stdout",
     "output_type": "stream",
     "text": [
      "Преподаватель занят.\n"
     ]
    }
   ],
   "source": [
    "hour = 18\n",
    "minute = 47\n",
    "if hour < 10:\n",
    "    print(\"Преподаватель занят.\")\n",
    "elif hour > 20:\n",
    "    print(\"Преподаватель занят.\")\n",
    "elif hour == 10 and minute > 30 or hour == 11 or hour == 12 and minute == 0:\n",
    "    print(\"Преподаватель занят.\")\n",
    "elif hour == 13 and minute > 40 or hour == 14 or hour == 15 and minute == 0:\n",
    "    print(\"Преподаватель занят.\")\n",
    "elif hour == 18 or hour == 19 and minute < 30:\n",
    "    print(\"Преподаватель занят.\")    \n",
    "else:\n",
    "    print(\"Преподаватель свободен.\")"
   ]
  },
  {
   "cell_type": "code",
   "execution_count": 1,
   "metadata": {},
   "outputs": [
    {
     "name": "stdout",
     "output_type": "stream",
     "text": [
      "Число 30 чётное\n",
      "Число 31 нечётное\n",
      "Число 32 чётное\n",
      "Число 33 нечётное\n",
      "Число 34 чётное\n",
      "Число 35 нечётное\n",
      "Число 36 чётное\n",
      "Число 37 нечётное\n",
      "Число 38 чётное\n",
      "Число 39 нечётное\n",
      "Число 40 чётное\n",
      "Число 41 нечётное\n"
     ]
    }
   ],
   "source": [
    "for i in range(30, 42): # Условия для прохода по циклу\n",
    "    # Тело цикла\n",
    "    if i%2 == 0:\n",
    "        print('Число', i, 'чётное')\n",
    "    else:\n",
    "        print('Число', i, 'нечётное')"
   ]
  },
  {
   "cell_type": "code",
   "execution_count": 38,
   "metadata": {},
   "outputs": [
    {
     "name": "stdout",
     "output_type": "stream",
     "text": [
      "0 П\n",
      "1 р\n",
      "2 и\n",
      "3 в\n",
      "4 е\n",
      "5 т\n",
      "6 !\n"
     ]
    }
   ],
   "source": [
    "for i, letter in enumerate('Привет!'):\n",
    "    #Здесь i - номер итерации, а letter - символ номер i из строки 'Привет!'\n",
    "    print(i, letter)"
   ]
  },
  {
   "cell_type": "code",
   "execution_count": 39,
   "metadata": {},
   "outputs": [
    {
     "name": "stdout",
     "output_type": "stream",
     "text": [
      "п\n",
      "д\n",
      "и\n",
      "н\n",
      "к\n"
     ]
    }
   ],
   "source": [
    "word = 'подшипник'\n",
    "for i, letter in enumerate(word):\n",
    "    if i%2 == 0:\n",
    "        print(letter)\n",
    "        "
   ]
  },
  {
   "cell_type": "code",
   "execution_count": 40,
   "metadata": {},
   "outputs": [
    {
     "name": "stdout",
     "output_type": "stream",
     "text": [
      "2013 год невисокосный\n",
      "2014 год невисокосный\n",
      "2015 год невисокосный\n",
      "2016 год високосный\n",
      "2017 год невисокосный\n",
      "2018 год невисокосный\n",
      "2019 год невисокосный\n",
      "2020 год високосный\n"
     ]
    }
   ],
   "source": [
    "year_1 = 2013\n",
    "year_2 = 2020\n",
    "year_3 = year_2+1\n",
    "for i in range (year_1, year_3):\n",
    "    if (i - 2000)%4 == 0:\n",
    "        print(i,\"год високосный\")\n",
    "    else:\n",
    "        print(i,\"год невисокосный\")\n",
    "    "
   ]
  },
  {
   "cell_type": "code",
   "execution_count": 41,
   "metadata": {},
   "outputs": [
    {
     "name": "stdout",
     "output_type": "stream",
     "text": [
      "и\n",
      "у\n",
      "а\n",
      "и\n",
      "а\n"
     ]
    }
   ],
   "source": [
    "word = 'Зимушка-зима'\n",
    "for i, letter in enumerate(word):\n",
    "    if 'а' in letter or 'у' in letter or 'о' in letter or 'ы' in letter or 'э' in letter or 'е' in letter or 'и' in letter or'ю' in letter or 'я' in letter:\n",
    "        print(letter)"
   ]
  },
  {
   "cell_type": "code",
   "execution_count": 42,
   "metadata": {},
   "outputs": [
    {
     "name": "stdout",
     "output_type": "stream",
     "text": [
      "Буква 1 в этом имени - С\n",
      "Буква 2 в этом имени - е\n",
      "Буква 3 в этом имени - р\n",
      "Буква 4 в этом имени - г\n",
      "Буква 5 в этом имени - е\n",
      "Буква 6 в этом имени - й\n"
     ]
    }
   ],
   "source": [
    "name = 'Сергей'\n",
    "for i, letter in enumerate(name):\n",
    "    i = i + 1\n",
    "    print(\"Буква\",i,\"в этом имени -\",letter)"
   ]
  },
  {
   "cell_type": "code",
   "execution_count": 43,
   "metadata": {},
   "outputs": [
    {
     "name": "stdout",
     "output_type": "stream",
     "text": [
      "25\n",
      "27\n",
      "30\n",
      "33\n",
      "35\n",
      "39\n",
      "40\n",
      "45\n"
     ]
    }
   ],
   "source": [
    "num_1 = 25\n",
    "num_2 = 45\n",
    "\n",
    "if num_1 > num_2 or num_1 < 0:\n",
    "    print(\"Введён неверный диапазон чисел\")\n",
    "else:\n",
    "    for i in range(num_1, num_2+1):\n",
    "        if i%2 != 0 and i%3 == 0 or i%5 == 0:\n",
    "            print(i)\n",
    "    "
   ]
  },
  {
   "cell_type": "code",
   "execution_count": 44,
   "metadata": {},
   "outputs": [
    {
     "name": "stdout",
     "output_type": "stream",
     "text": [
      "49.41177778422102\n"
     ]
    }
   ],
   "source": [
    "sum_squares = 0\n",
    "for i in range(20, 30):\n",
    "    sum_squares += i**(1/2)\n",
    "print(sum_squares)\n"
   ]
  },
  {
   "cell_type": "code",
   "execution_count": 45,
   "metadata": {},
   "outputs": [
    {
     "name": "stdout",
     "output_type": "stream",
     "text": [
      "0\n",
      "1\n",
      "2\n",
      "3\n",
      "4\n",
      "5\n",
      "Цикл завершен!\n"
     ]
    }
   ],
   "source": [
    "for x in range(6):\n",
    "    print(x)\n",
    "else:\n",
    "    print(\"Цикл завершен!\")"
   ]
  },
  {
   "cell_type": "code",
   "execution_count": 46,
   "metadata": {},
   "outputs": [
    {
     "name": "stdout",
     "output_type": "stream",
     "text": [
      "100 0\n",
      "100 0\n",
      "244 1728\n",
      "440 1728\n",
      "696 5103\n",
      "696 5103\n",
      "1020 10935\n",
      "1420 10935\n",
      "1904 20196\n",
      "1904 20196\n",
      "2480 34020\n"
     ]
    }
   ],
   "source": [
    "sum_2 = 0\n",
    "sum_3 = 0\n",
    "for i in range(10,26):\n",
    "    if i%2 ==0:\n",
    "        sum_2 += i**2\n",
    "    if i%3 == 0:\n",
    "        sum_3 +=i**3\n",
    "    else:\n",
    "        print(sum_2, sum_3)"
   ]
  },
  {
   "cell_type": "code",
   "execution_count": 47,
   "metadata": {},
   "outputs": [
    {
     "name": "stdout",
     "output_type": "stream",
     "text": [
      "1 1 1\n",
      "2 4 8\n",
      "3 9 27\n",
      "4 16 64\n",
      "5 25 125\n",
      "6 36 216\n",
      "7 49 343\n",
      "8 64 512\n",
      "9 81 729\n",
      "10 100 1000\n"
     ]
    }
   ],
   "source": [
    "sum_2 = 0\n",
    "sum_3 = 0\n",
    "for i in range(1,11):\n",
    "    sum_2 = i**2\n",
    "    sum_3 = i**3\n",
    "    print(i, sum_2, sum_3)"
   ]
  },
  {
   "cell_type": "code",
   "execution_count": 48,
   "metadata": {},
   "outputs": [
    {
     "name": "stdout",
     "output_type": "stream",
     "text": [
      "1\n",
      "2\n",
      "3\n",
      "4\n",
      "6\n",
      "7\n",
      "12\n",
      "14\n",
      "21\n",
      "28\n",
      "42\n",
      "84\n"
     ]
    }
   ],
   "source": [
    "number = 84\n",
    "for i in range(1, number+1):\n",
    "    if number%i == 0:\n",
    "        print(i)"
   ]
  },
  {
   "cell_type": "code",
   "execution_count": 49,
   "metadata": {},
   "outputs": [
    {
     "name": "stdout",
     "output_type": "stream",
     "text": [
      "2\n"
     ]
    }
   ],
   "source": [
    "num_1 = 12\n",
    "num_2 = 38\n",
    "if num_1 > num_2:\n",
    "    num_3 = num_1\n",
    "else:\n",
    "    num_3 = num_2\n",
    "for i in range(1, num_3+1):\n",
    "    if num_1%i == 0 and num_2%i == 0 and i != 1:\n",
    "        print(i)"
   ]
  },
  {
   "cell_type": "code",
   "execution_count": 50,
   "metadata": {},
   "outputs": [
    {
     "name": "stdout",
     "output_type": "stream",
     "text": [
      "55\n"
     ]
    }
   ],
   "source": [
    "n = 10\n",
    "x = 0\n",
    "y = 1\n",
    "for i in range(1, n+1):\n",
    "    z = x + y\n",
    "    x = y\n",
    "    y = z\n",
    "    if i == n:\n",
    "        print(x)"
   ]
  },
  {
   "cell_type": "code",
   "execution_count": 51,
   "metadata": {},
   "outputs": [
    {
     "name": "stdout",
     "output_type": "stream",
     "text": [
      "15 X 1 = 15\n",
      "15 X 2 = 30\n",
      "15 X 3 = 45\n",
      "15 X 4 = 60\n",
      "15 X 5 = 75\n",
      "15 X 6 = 90\n",
      "15 X 7 = 105\n",
      "15 X 8 = 120\n",
      "15 X 9 = 135\n",
      "15 X 10 = 150\n"
     ]
    }
   ],
   "source": [
    "number = 15\n",
    "for i in range(1, 11):\n",
    "    x = number*i\n",
    "    print(number,\"X\",i,\"=\",x)"
   ]
  },
  {
   "cell_type": "code",
   "execution_count": 52,
   "metadata": {},
   "outputs": [
    {
     "name": "stdout",
     "output_type": "stream",
     "text": [
      "Идёт итерация цикла  № 1\n",
      "Идёт итерация цикла  № 2\n",
      "Выполнение цикла закончено\n"
     ]
    }
   ],
   "source": [
    "for i in range(5):\n",
    "    i = i+1\n",
    "    if i == 3:\n",
    "        break\n",
    "    print('Идёт итерация цикла  №', i)\n",
    "print('Выполнение цикла закончено')"
   ]
  },
  {
   "cell_type": "code",
   "execution_count": 53,
   "metadata": {},
   "outputs": [
    {
     "name": "stdout",
     "output_type": "stream",
     "text": [
      "4\n"
     ]
    }
   ],
   "source": [
    "num_1 = 1812\n",
    "num_2 = 2500\n",
    "if num_1 > num_2:\n",
    "    num_3 = num_1\n",
    "else:\n",
    "    num_3 = num_2\n",
    "for i in range(1, num_3+1):\n",
    "    if num_1%i == 0 and num_2%i == 0 and i != 1:\n",
    "       x = i\n",
    "if x != 0:\n",
    "    print(x)\n",
    "else:\n",
    "    print(\"Общих делителей не найдено\")"
   ]
  },
  {
   "cell_type": "code",
   "execution_count": 54,
   "metadata": {},
   "outputs": [
    {
     "name": "stdout",
     "output_type": "stream",
     "text": [
      "стркция"
     ]
    }
   ],
   "source": [
    "string = 'абстракция'\n",
    "for i, letter in enumerate(string):\n",
    "    if 'а' in letter or 'б' in letter or 'в' in letter:\n",
    "        continue\n",
    "    else:\n",
    "        print(letter, end='')"
   ]
  },
  {
   "cell_type": "code",
   "execution_count": 55,
   "metadata": {},
   "outputs": [
    {
     "name": "stdout",
     "output_type": "stream",
     "text": [
      "Увы, это неправильный ответ\n",
      "Увы, это неправильный ответ\n",
      "Увы, это неправильный ответ\n",
      "Увы, это неправильный ответ\n",
      "Увы, это неправильный ответ\n",
      "Это безнадёжно!\n"
     ]
    }
   ],
   "source": [
    "string = 'Нет'\n",
    "for i in range(1, 11):\n",
    "    if 'Нет' in string:\n",
    "        print(\"Увы, это неправильный ответ\")\n",
    "        if i == 5:\n",
    "            break\n",
    "    else:\n",
    "        print(\"Это отлично!\")\n",
    "print(\"Это безнадёжно!\")"
   ]
  },
  {
   "cell_type": "code",
   "execution_count": 56,
   "metadata": {},
   "outputs": [
    {
     "name": "stdout",
     "output_type": "stream",
     "text": [
      "Простое\n"
     ]
    }
   ],
   "source": [
    "number = 173\n",
    "if number%1 == 0 or number%number:\n",
    "    print(\"Простое\")\n",
    "else:\n",
    "    print(\"Не является простым\")"
   ]
  },
  {
   "cell_type": "code",
   "execution_count": 57,
   "metadata": {},
   "outputs": [
    {
     "name": "stdout",
     "output_type": "stream",
     "text": [
      "Строка мне не нравится!\n"
     ]
    }
   ],
   "source": [
    "string = 'прелестная строка'\n",
    "string_2 = len(string)\n",
    "for i, letter in enumerate(string, 1):\n",
    "    if 'а' in letter or 'у' in letter or 'о' in letter or 'ы' in letter or 'э' in letter or 'е' in letter or 'и' in letter or'ю' in letter or 'я' in letter:\n",
    "        print(\"Строка мне не нравится!\")\n",
    "        break\n",
    "    else:\n",
    "        if i != string_2:\n",
    "            continue\n",
    "        else:    \n",
    "            print(\"Какая хорошая строка!\")"
   ]
  },
  {
   "cell_type": "code",
   "execution_count": 58,
   "metadata": {},
   "outputs": [
    {
     "name": "stdout",
     "output_type": "stream",
     "text": [
      "Деньги удвоятся через 12 лет\n"
     ]
    }
   ],
   "source": [
    "money = 1\n",
    "year = 0\n",
    "yearly_multiplier = 1.06\n",
    "\n",
    "while money < 2:\n",
    "    money = money*yearly_multiplier\n",
    "    year += 1\n",
    "else:\n",
    "    print('Деньги удвоятся через', year, 'лет')"
   ]
  },
  {
   "cell_type": "code",
   "execution_count": 59,
   "metadata": {},
   "outputs": [
    {
     "name": "stdout",
     "output_type": "stream",
     "text": [
      "19\n"
     ]
    }
   ],
   "source": [
    "Y = 170000\n",
    "Z = 1000000\n",
    "year = 0\n",
    "yearly_multiplier = 1.1\n",
    "\n",
    "while Y < Z:\n",
    "    Y = Y*yearly_multiplier\n",
    "    year += 1\n",
    "else:\n",
    "    print(year)\n",
    "    "
   ]
  },
  {
   "cell_type": "code",
   "execution_count": 60,
   "metadata": {},
   "outputs": [
    {
     "name": "stdout",
     "output_type": "stream",
     "text": [
      "Перевес 62 кг\n"
     ]
    }
   ],
   "source": [
    "weight = 77\n",
    "weight_max = 400\n",
    "x = weight\n",
    "\n",
    "while x < weight_max:\n",
    "    x = x + weight\n",
    "else:\n",
    "    y = x - weight_max\n",
    "    print(\"Перевес\", y,\"кг\")"
   ]
  },
  {
   "cell_type": "code",
   "execution_count": 61,
   "metadata": {},
   "outputs": [
    {
     "name": "stdout",
     "output_type": "stream",
     "text": [
      "7\n"
     ]
    }
   ],
   "source": [
    "attack = 80\n",
    "current_health = 500\n",
    "x = 0\n",
    "\n",
    "while 0 < current_health:\n",
    "    current_health = current_health - attack\n",
    "    x = x + 1\n",
    "else:\n",
    "    print(x)"
   ]
  },
  {
   "cell_type": "code",
   "execution_count": 62,
   "metadata": {},
   "outputs": [
    {
     "name": "stdout",
     "output_type": "stream",
     "text": [
      "10000\n",
      "7200\n",
      "4400\n",
      "1600\n",
      "Слишком большие расходы\n"
     ]
    }
   ],
   "source": [
    "spent = 2800\n",
    "balance = 10000\n",
    "\n",
    "while 0 < balance:\n",
    "    print(balance)\n",
    "    balance = balance - spent\n",
    "\n",
    "else:\n",
    "    print(\"Слишком большие расходы\")"
   ]
  },
  {
   "cell_type": "code",
   "execution_count": 63,
   "metadata": {},
   "outputs": [
    {
     "name": "stdout",
     "output_type": "stream",
     "text": [
      "20\n"
     ]
    }
   ],
   "source": [
    "volume = 1000\n",
    "robo = 5\n",
    "i = 0\n",
    "\n",
    "while 0 < volume:\n",
    "    volume = volume - robo\n",
    "    robo = robo + 5\n",
    "    i = i + 1\n",
    "\n",
    "else:\n",
    "    print(i)"
   ]
  },
  {
   "cell_type": "code",
   "execution_count": 64,
   "metadata": {},
   "outputs": [
    {
     "name": "stdout",
     "output_type": "stream",
     "text": [
      "3\n"
     ]
    }
   ],
   "source": [
    "for i in range(10):\n",
    "    if i >= 3:\n",
    "        break\n",
    "print(i)        "
   ]
  },
  {
   "cell_type": "code",
   "execution_count": 1,
   "metadata": {},
   "outputs": [
    {
     "name": "stdout",
     "output_type": "stream",
     "text": [
      "Число должно быть больше!\n",
      "Число должно быть больше!\n",
      "Число должно быть больше!\n",
      "Число должно быть больше!\n",
      "Число должно быть больше!\n",
      "Число должно быть больше!\n",
      "Число должно быть меньше!\n",
      "Число должно быть меньше!\n",
      "Число должно быть меньше!\n",
      "Число должно быть меньше!\n",
      "Число должно быть меньше!\n",
      "Число должно быть меньше!\n",
      "Вы угадали число! Это число = 95, за 13 попыток\n"
     ]
    }
   ],
   "source": [
    "import numpy as np\n",
    "\n",
    "number = np.random.randint(1, 101) # загадываем число\n",
    "count = 0\n",
    "\n",
    "while True:\n",
    "    count += 1\n",
    "    predict_number = int(input(\"Угадай число от 1 до 100\"))\n",
    "\n",
    "    if predict_number > number:\n",
    "        print(\"Число должно быть меньше!\")\n",
    "\n",
    "    elif predict_number < number:\n",
    "        print(\"Число должно быть больше!\")\n",
    "\n",
    "    else:\n",
    "        print(f\"Вы угадали число! Это число = {number}, за {count} попыток\")\n",
    "        break # конец игры, выход из цикла"
   ]
  },
  {
   "cell_type": "code",
   "execution_count": 89,
   "metadata": {
    "collapsed": false
   },
   "outputs": [
    {
     "name": "stdout",
     "output_type": "stream",
     "text": [
      "25\n",
      "145\n"
     ]
    }
   ],
   "source": [
    "def saver():\n",
    "    val = 0\n",
    "    def adder(x):\n",
    "        nonlocal val\n",
    "        val = val + x\n",
    "        return val\n",
    "    return adder\n",
    "\n",
    "pig = saver()\n",
    "print(pig(25))\n",
    "print(pig(120))"
   ]
  },
  {
   "cell_type": "code",
   "execution_count": 93,
   "metadata": {
    "collapsed": false
   },
   "outputs": [
    {
     "name": "stdout",
     "output_type": "stream",
     "text": [
      "15.0\n"
     ]
    }
   ],
   "source": [
    "def multiply_lst(lst):\n",
    "    if len(lst) == 0:\n",
    "        return 1\n",
    "    else:\n",
    "        return lst[0] * multiply_lst(lst[1:])\n",
    "print(multiply_lst([1, 5, 2, 1.5]))"
   ]
  },
  {
   "cell_type": "code",
   "execution_count": 2,
   "metadata": {
    "collapsed": false
   },
   "outputs": [
    {
     "name": "stdout",
     "output_type": "stream",
     "text": [
      "8\n"
     ]
    }
   ],
   "source": [
    "def fib(n):\n",
    "    if n==0: return 0\n",
    "    if n==1: return 1\n",
    "    return fib(n-1) + fib(n - 2)\n",
    "print(fib(6))"
   ]
  },
  {
   "cell_type": "code",
   "execution_count": 156,
   "metadata": {
    "collapsed": false
   },
   "outputs": [
    {
     "name": "stdout",
     "output_type": "stream",
     "text": [
      "625\n"
     ]
    }
   ],
   "source": [
    "def power(val, n):\n",
    "    if n == 0: return 1\n",
    "    return (val * power(val, n-1))\n",
    "print(power(-5,4))"
   ]
  },
  {
   "cell_type": "code",
   "execution_count": 160,
   "metadata": {
    "collapsed": false
   },
   "outputs": [
    {
     "name": "stdout",
     "output_type": "stream",
     "text": [
      "False\n"
     ]
    }
   ],
   "source": [
    "def is_leap(year):\n",
    "    if year%400 == 0:\n",
    "        return True\n",
    "    if year%4 == 0 and year%100 != 0:\n",
    "        return True\n",
    "    else:\n",
    "        return False\n",
    "print(is_leap(1900))"
   ]
  },
  {
   "cell_type": "code",
   "execution_count": 233,
   "metadata": {
    "collapsed": false
   },
   "outputs": [
    {
     "name": "stdout",
     "output_type": "stream",
     "text": [
      "False\n"
     ]
    }
   ],
   "source": [
    "def check_date(day, month, year):\n",
    "    if type(day) is not int or type(month) is not int or type(year) is not int:\n",
    "        return False\n",
    "    if year < 1900 or year > 2022:\n",
    "        return False\n",
    "    if month < 1 or month > 12:\n",
    "        return False\n",
    "    if day < 1:\n",
    "        return False\n",
    "    if month == 9 or month == 4 or month == 6 or month == 11 and day > 30:\n",
    "        return False\n",
    "    if month == 1 or month == 10 or month == 3 or month == 5  or month == 7  or month == 8  or month == 12 and day > 30:\n",
    "        return False\n",
    "    if month == 2:\n",
    "        def is_leap():\n",
    "            nonlocal year\n",
    "            if year%400 == 0:\n",
    "                return True\n",
    "            if year%4 == 0 and year%100 != 0:\n",
    "                return True\n",
    "            else:\n",
    "                return False\n",
    "        return is_leap()\n",
    "    else:\n",
    "        return True\n",
    "print(check_date(29,2,2001))"
   ]
  },
  {
   "cell_type": "code",
   "execution_count": 475,
   "metadata": {
    "collapsed": false
   },
   "outputs": [
    {
     "data": {
      "text/plain": [
       "[1, 2, 3, ('Smith', 'John', None, 12, 6, 2000)]"
      ]
     },
     "execution_count": 475,
     "metadata": {},
     "output_type": "execute_result"
    }
   ],
   "source": [
    "reg = []\n",
    "\n",
    "def register(surname, name, date, middle_name=None, registry=None):\n",
    "    if registry is None:\n",
    "        registry = ()\n",
    "\n",
    "    day = date[0]\n",
    "    month = date[1]\n",
    "    year = date[2]\n",
    "\n",
    "    def check_date():\n",
    "        nonlocal day\n",
    "        nonlocal month\n",
    "        nonlocal year\n",
    "        nonlocal registry\n",
    "\n",
    "        if type(day) is not int or type(month) is not int or type(year) is not int:\n",
    "            raise ValueError(\"Invalid Date!\")\n",
    "        if year < 1900 or year > 2022:\n",
    "            raise ValueError(\"Invalid Date!\")\n",
    "        if month < 1 or month > 12:\n",
    "            raise ValueError(\"Invalid Date!\")\n",
    "        if day < 1:\n",
    "            raise ValueError(\"Invalid Date!\")\n",
    "        if month == 9 and day > 30:\n",
    "            raise ValueError(\"Invalid Date!\")\n",
    "        if month == 4 and day > 30:\n",
    "            raise ValueError(\"Invalid Date!\")\n",
    "        if month == 6and day > 30:\n",
    "            raise ValueError(\"Invalid Date!\")\n",
    "        if month == 11 and day > 30:\n",
    "            raise ValueError(\"Invalid Date!\")\n",
    "        if month == 1 and day > 31:\n",
    "            raise ValueError(\"Invalid Date!\")\n",
    "        if month == 10 and day > 31:\n",
    "            raise ValueError(\"Invalid Date!\")\n",
    "        if month == 3 and day > 31:\n",
    "            raise ValueError(\"Invalid Date!\")\n",
    "        if month == 5 and day > 31:\n",
    "            raise ValueError(\"Invalid Date!\")\n",
    "        if month == 7 and day > 31:\n",
    "            raise ValueError(\"Invalid Date!\")\n",
    "        if month == 8 and day > 31:\n",
    "            raise ValueError(\"Invalid Date!\")\n",
    "        if month == 12 and day > 31:\n",
    "            raise ValueError(\"Invalid Date!\")\n",
    "        if month == 2 and day == 30:\n",
    "            raise ValueError(\"Invalid Date!\")\n",
    "        if month == 2 and day == 29:\n",
    "            def is_leap():\n",
    "                nonlocal year\n",
    "                if year%400 == 0:\n",
    "                    return True\n",
    "                if year%4 == 0 and year%100 != 0:\n",
    "                    return True\n",
    "                else:\n",
    "                    raise ValueError(\"Invalid Date!\")\n",
    "            return is_leap()\n",
    "        else:\n",
    "            regcrt = (surname, name, middle_name, day, month, year)\n",
    "\n",
    "            if registry is not reg:\n",
    "                reg.extend(registry)\n",
    "\n",
    "            reg.append(regcrt)\n",
    "\n",
    "            return reg\n",
    "    return check_date()\n",
    "\n",
    "\n",
    "register('Smith', 'John', (12, 6, 2000), registry= [1,2,3])"
   ]
  },
  {
   "cell_type": "code",
   "execution_count": 1,
   "metadata": {
    "collapsed": false
   },
   "outputs": [
    {
     "data": {
      "text/plain": [
       "' Python'"
      ]
     },
     "execution_count": 1,
     "metadata": {},
     "output_type": "execute_result"
    }
   ],
   "source": [
    "python_string = 'Hello! My name is Python. I will help you to analyze some data.'\n",
    "\n",
    "python_string[17:24]"
   ]
  },
  {
   "cell_type": "code",
   "execution_count": 4,
   "metadata": {
    "collapsed": false
   },
   "outputs": [
    {
     "name": "stdout",
     "output_type": "stream",
     "text": [
      "250047\n"
     ]
    }
   ],
   "source": [
    "python_string = 'Hello! My name is Python. I will help you to analyze some data.'\n",
    "\n",
    "result = len(python_string)**3\n",
    "\n",
    "print(result)"
   ]
  },
  {
   "cell_type": "code",
   "execution_count": 9,
   "metadata": {
    "collapsed": false
   },
   "outputs": [
    {
     "name": "stdout",
     "output_type": "stream",
     "text": [
      "13\n"
     ]
    }
   ],
   "source": [
    "predicted_time = 38.873\n",
    "real_time = 26.124\n",
    "\n",
    "absolute_error = round(predicted_time - real_time)\n",
    "\n",
    "\n",
    "print(absolute_error)"
   ]
  },
  {
   "cell_type": "code",
   "execution_count": 23,
   "metadata": {
    "collapsed": false
   },
   "outputs": [
    {
     "name": "stdout",
     "output_type": "stream",
     "text": [
      "13\n"
     ]
    }
   ],
   "source": [
    "input_string = 'Hello! My name is Python. I will help you to analyze some data.'\n",
    "\n",
    "res_input_string = input_string.replace('.', '')\n",
    "res_input_string = input_string.replace(',', '')\n",
    "res_input_string = input_string.replace('!', '')\n",
    "res_input_string = input_string.replace('?', '')\n",
    "\n",
    "count_words = len(res_input_string.split( ))\n",
    "\n",
    "print(count_words)"
   ]
  },
  {
   "cell_type": "code",
   "execution_count": 34,
   "metadata": {
    "collapsed": false
   },
   "outputs": [
    {
     "name": "stdout",
     "output_type": "stream",
     "text": [
      "jpg\n",
      "10394\n"
     ]
    }
   ],
   "source": [
    "file_path = 'data/images/train/10394.jpg'\n",
    "\n",
    "file_extension = file_path.split('.')\n",
    "file_extension = file_extension[-1]\n",
    "\n",
    "file_name = file_path.split('/')\n",
    "file_name = file_name[-1]\n",
    "file_name = file_name.split('.')\n",
    "file_name = file_name[0]\n",
    "\n",
    "print(file_extension)\n",
    "print(file_name)"
   ]
  },
  {
   "cell_type": "code",
   "execution_count": 50,
   "metadata": {
    "collapsed": false
   },
   "outputs": [
    {
     "name": "stdout",
     "output_type": "stream",
     "text": [
      "скажи что-нибудь попросила она и он поднял на нее глаза\n"
     ]
    }
   ],
   "source": [
    "generated_text = \"глаза нее на поднял он и она попросила что-нибудь скажи\"\n",
    "\n",
    "generated_text = generated_text.split(' ')\n",
    "\n",
    "updated_text = generated_text[::-1]\n",
    "\n",
    "updated_text = ' '.join(updated_text)\n",
    "\n",
    "print(updated_text)\n"
   ]
  },
  {
   "cell_type": "code",
   "execution_count": 55,
   "metadata": {
    "collapsed": false
   },
   "outputs": [
    {
     "name": "stdout",
     "output_type": "stream",
     "text": [
      "Пользователь Andrey сменил пароль на 31andrey12QK\n"
     ]
    }
   ],
   "source": [
    "def change_password(user_name, new_password):\n",
    "\n",
    "\n",
    "    return \"Пользователь {} сменил пароль на {}\".format(user_name, new_password)\n",
    "\n",
    "print(change_password('Andrey', '31andrey12QK'))\n"
   ]
  },
  {
   "cell_type": "code",
   "execution_count": 78,
   "metadata": {
    "collapsed": false
   },
   "outputs": [
    {
     "name": "stdout",
     "output_type": "stream",
     "text": [
      "13973.9\n",
      "2\n",
      "62\n"
     ]
    }
   ],
   "source": [
    "car_dict = {\n",
    "    'car_ID': [123, 117, 111, 82, 101, 96, 156, 2, 58, 49],\n",
    "    'fueltype': ['gas', 'diesel', 'diesel', 'gas', 'gas', 'gas', 'gas', 'gas', 'gas', 'gas'],\n",
    "    'horsepower': [68, 95, 95, 88, 97, 69, 62, 111, 101, 176],\n",
    "    'price': [7609.0, 17950.0, 13860.0, 8499.0, 9549.0, 7799.0, 8778.0, 16500.0, 13645.0, 35550.0]\n",
    "}\n",
    "\n",
    "count_price = 0\n",
    "all_price = 0\n",
    "count_diesel = 0\n",
    "\n",
    "for x in car_dict['price']:\n",
    "    count_price += 1\n",
    "    all_price = all_price + x\n",
    "\n",
    "mean_price = all_price / count_price\n",
    "\n",
    "for y in car_dict['fueltype']:\n",
    "    if y == 'diesel':\n",
    "        count_diesel += 1\n",
    "\n",
    "min_horsepower = min(car_dict['horsepower'])"
   ]
  },
  {
   "cell_type": "code",
   "execution_count": 3,
   "metadata": {
    "collapsed": false
   },
   "outputs": [
    {
     "name": "stdout",
     "output_type": "stream",
     "text": [
      "True\n"
     ]
    }
   ],
   "source": [
    "new_lst = []\n",
    "\n",
    "def check_duplicates(lst):\n",
    "    for x in lst:\n",
    "        if x not in new_lst:\n",
    "            new_lst.append(x)\n",
    "        else:\n",
    "            return True\n",
    "    return False\n",
    "\n",
    "lst = [0, 0, 1, 2, 3, 4, 5, 5, 6, 7]\n",
    "print(check_duplicates(lst))"
   ]
  },
  {
   "cell_type": "code",
   "execution_count": 132,
   "metadata": {
    "collapsed": false
   },
   "outputs": [
    {
     "name": "stdout",
     "output_type": "stream",
     "text": [
      "[6, 2, 3, 5, 1]\n"
     ]
    }
   ],
   "source": [
    "def swap_places(lst):\n",
    "    new_lst = []\n",
    "    z = lst[0]\n",
    "    y = lst[-1]\n",
    "    new_lst.append(y)\n",
    "    for x in lst[1:-1]:\n",
    "        new_lst.append(x)\n",
    "    new_lst.append(z)\n",
    "    return new_lst\n",
    "\n",
    "print(swap_places([1, 2, 3, 5, 6]))"
   ]
  },
  {
   "cell_type": "code",
   "execution_count": 166,
   "metadata": {
    "collapsed": false
   },
   "outputs": [
    {
     "name": "stdout",
     "output_type": "stream",
     "text": [
      "['qweasdqweas', 'ewqqqqq', 'rteww', 'q']\n",
      "['qweasdqweas', 'ewqqqqq____', 'rteww______', 'q__________']\n"
     ]
    }
   ],
   "source": [
    "def equalize_lengths(lst):\n",
    "    xl = 0\n",
    "    new_lst =[]\n",
    "\n",
    "    def sortByLength(lst):\n",
    "        return len(lst)\n",
    "\n",
    "    lst.sort(key=sortByLength)\n",
    "    lst.reverse()\n",
    "\n",
    "    for x in lst:\n",
    "        l = len(x)\n",
    "        if l > xl:\n",
    "            xl = l\n",
    "\n",
    "    for y in lst:\n",
    "        if len(y) == xl:\n",
    "            new_lst.append(y)\n",
    "        else:\n",
    "            while len(y) != xl:\n",
    "                y = y + '_'\n",
    "            new_lst.append(y)\n",
    "    return new_lst\n",
    "\n",
    "print(equalize_lengths(['qweasdqweas', 'q', 'rteww', 'ewqqqqq']))"
   ]
  },
  {
   "cell_type": "code",
   "execution_count": 170,
   "metadata": {
    "collapsed": false
   },
   "outputs": [
    {
     "name": "stdout",
     "output_type": "stream",
     "text": [
      "1\n"
     ]
    }
   ],
   "source": [
    "def check_number_sign(number):\n",
    "    if number == 0:\n",
    "        return '0'\n",
    "    elif number > 0:\n",
    "        return '1'\n",
    "    else:\n",
    "        return '-1'\n",
    "print(check_number_sign(5290))"
   ]
  },
  {
   "cell_type": "code",
   "execution_count": 177,
   "metadata": {
    "collapsed": false
   },
   "outputs": [
    {
     "name": "stdout",
     "output_type": "stream",
     "text": [
      "19\n"
     ]
    }
   ],
   "source": [
    "def find_min_number(a, b, c):\n",
    "    if a < b and a < c:\n",
    "        return a\n",
    "    elif b < a and b < c:\n",
    "        return b\n",
    "    else:\n",
    "        return c\n",
    "\n",
    "print(find_min_number(130, 122, 19))\n"
   ]
  },
  {
   "cell_type": "code",
   "execution_count": 8,
   "metadata": {
    "collapsed": false
   },
   "outputs": [
    {
     "name": "stdout",
     "output_type": "stream",
     "text": [
      "-9\n"
     ]
    }
   ],
   "source": [
    "def sum_min_numbers(a, b, c):\n",
    "    x = max(a, b, c)\n",
    "    return (a + b + c - x)\n",
    "\n",
    "print(sum_min_numbers(1, 3, -10))"
   ]
  },
  {
   "cell_type": "code",
   "execution_count": 186,
   "metadata": {
    "collapsed": false
   },
   "outputs": [
    {
     "name": "stdout",
     "output_type": "stream",
     "text": [
      "Zero division error!\n",
      "None\n"
     ]
    }
   ],
   "source": [
    "def division(a, b):\n",
    "    try:\n",
    "        return a / b\n",
    "    except ZeroDivisionError:\n",
    "        print(\"Zero division error!\")\n",
    "        return None\n",
    "\n",
    "\n",
    "print(division(189, 0))"
   ]
  },
  {
   "cell_type": "code",
   "execution_count": 187,
   "metadata": {
    "collapsed": false
   },
   "outputs": [
    {
     "name": "stdout",
     "output_type": "stream",
     "text": [
      "300.5\n"
     ]
    }
   ],
   "source": [
    "def get_prediction(x1, x2):\n",
    "    if x1 < 20:\n",
    "        if x2 < 200:\n",
    "            return 305.5\n",
    "        else:\n",
    "            return 67.5\n",
    "    else:\n",
    "        if x2 < 170:\n",
    "            if x1 < 40:\n",
    "                return -64.1\n",
    "            else:\n",
    "                return 0.7\n",
    "        else:\n",
    "            return 1023\n",
    "print(get_prediction(x1=15, x2=150))"
   ]
  },
  {
   "cell_type": "code",
   "execution_count": 194,
   "metadata": {
    "collapsed": false
   },
   "outputs": [
    {
     "name": "stdout",
     "output_type": "stream",
     "text": [
      "[4, 4.2, 42.2, -3.4, -5.2]\n"
     ]
    }
   ],
   "source": [
    "def more_than_n(lst, n):\n",
    "\n",
    "    new_lst = []\n",
    "\n",
    "    for x in lst:\n",
    "        if abs(x) > n:\n",
    "            new_lst.append(x)\n",
    "\n",
    "    return new_lst\n",
    "\n",
    "print(more_than_n([-1, 4, 4.2, 42.2, -3.4, -5.2], 3))\n"
   ]
  },
  {
   "cell_type": "code",
   "execution_count": 221,
   "metadata": {
    "collapsed": false
   },
   "outputs": [
    {
     "name": "stdout",
     "output_type": "stream",
     "text": [
      "False\n"
     ]
    }
   ],
   "source": [
    "def lucky_ticket(ticket_number):\n",
    "    a = 0\n",
    "    lst_a = str(ticket_number)\n",
    "    lst_a = lst_a[0:3]\n",
    "    b = 0\n",
    "    lst_b = str(ticket_number)\n",
    "    lst_b = lst_b[3:6]\n",
    "\n",
    "    for x in lst_a:\n",
    "        x = int(x)\n",
    "        a = a + x\n",
    "\n",
    "    for y in lst_b:\n",
    "        y = int(y)\n",
    "        b = b + y\n",
    "\n",
    "    if a == b:\n",
    "        return True\n",
    "    else:\n",
    "        return False\n",
    "\n",
    "print(lucky_ticket(111121))"
   ]
  },
  {
   "cell_type": "code",
   "execution_count": 262,
   "metadata": {
    "collapsed": false
   },
   "outputs": [
    {
     "name": "stdout",
     "output_type": "stream",
     "text": [
      "2\n",
      "3\n",
      "4\n",
      "4\n",
      "6\n",
      "6\n"
     ]
    }
   ],
   "source": [
    "def holes_count(number):\n",
    "    hole = 0\n",
    "    number = str(number)\n",
    "\n",
    "    for x in number:\n",
    "        if x == '8':\n",
    "            hole = hole + 2\n",
    "        elif x == '1' or x == '2' or x == '3' or x == '5' or x == '7':\n",
    "            hole = hole\n",
    "        else:\n",
    "            hole = hole + 1\n",
    "    return hole\n",
    "\n",
    "print(holes_count(84628))"
   ]
  },
  {
   "cell_type": "code",
   "execution_count": 264,
   "metadata": {
    "collapsed": false
   },
   "outputs": [
    {
     "name": "stdout",
     "output_type": "stream",
     "text": [
      "5\n"
     ]
    }
   ],
   "source": [
    "def even_numbers_in_matrix(matrix_example):\n",
    "    number = 0\n",
    "\n",
    "    for x in matrix_example:\n",
    "        for y in x:\n",
    "            if y%2 == 0:\n",
    "                number = number + 1\n",
    "\n",
    "    return number\n",
    "\n",
    "matrix_example = [\n",
    "    [1, 5, 4],\n",
    "    [4, 2, -2],\n",
    "    [7, 65, 88]\n",
    "]\n",
    "\n",
    "print(even_numbers_in_matrix(matrix_example))"
   ]
  },
  {
   "cell_type": "code",
   "execution_count": 293,
   "metadata": {
    "collapsed": false
   },
   "outputs": [
    {
     "name": "stdout",
     "output_type": "stream",
     "text": [
      "3 3 4 3\n",
      "Error! Matrices dimensions are different!\n",
      "None\n"
     ]
    }
   ],
   "source": [
    "def matrix_sum(matrix1, matrix2):\n",
    "\n",
    "    row_1 = 0\n",
    "    row_2 = 0\n",
    "    col_1 = 0\n",
    "    col_2 = 0\n",
    "\n",
    "    for aa in matrix1:\n",
    "        row_1 += 1\n",
    "        for ab in aa:\n",
    "            col_1 += 1\n",
    "    col_1 = int(col_1 / row_1)\n",
    "\n",
    "    for ba in matrix2:\n",
    "        row_2 += 1\n",
    "        for bb in ba:\n",
    "            col_2 += 1\n",
    "    col_2 = int(col_2 / row_2)\n",
    "\n",
    "    print(row_1, row_2, col_1, col_2)\n",
    "\n",
    "    if row_1 != row_2 or col_1 != col_2:\n",
    "        print(\"Error! Matrices dimensions are different!\")\n",
    "        return None\n",
    "    else:\n",
    "        result = [[matrix1[i][j] + matrix2[i][j]  for j in range\n",
    "        (len(matrix1[0]))] for i in range(len(matrix1))]\n",
    "\n",
    "        for r in result:\n",
    "            return result\n",
    "\n",
    "matrix1_example = [\n",
    "    [1, 5, 4, 5],\n",
    "    [4, 2, -2, -5],\n",
    "    [4, 2, -2, -5]\n",
    "]\n",
    "\n",
    "matrix2_example = [\n",
    "    [10, 15, 43],\n",
    "    [41, 2, -2],\n",
    "    [7, 5, 7]\n",
    "]\n",
    "\n",
    "print(matrix_sum(matrix1=matrix1_example, matrix2=matrix2_example))\n"
   ]
  },
  {
   "cell_type": "code",
   "execution_count": 341,
   "metadata": {
    "collapsed": false
   },
   "outputs": [
    {
     "name": "stdout",
     "output_type": "stream",
     "text": [
      "age: 28\n",
      "first_name: John\n",
      "last_name: Doe\n",
      "position: Python developer\n"
     ]
    }
   ],
   "source": [
    "def print_personal_data(**args):\n",
    "    args = sorted(args.items())\n",
    "\n",
    "    for x in args:\n",
    "        print('{}: {}'.format(x[0], x[1]))\n",
    "\n",
    "print_personal_data(first_name='John', last_name='Doe', age=28, position='Python developer')"
   ]
  },
  {
   "cell_type": "code",
   "execution_count": null,
   "metadata": {
    "collapsed": false
   },
   "outputs": [],
   "source": []
  },
  {
   "cell_type": "code",
   "execution_count": 373,
   "metadata": {
    "collapsed": false
   },
   "outputs": [
    {
     "name": "stdout",
     "output_type": "stream",
     "text": [
      "['arrakis', 'the', 'planet', 'known', 'as', 'dune', 'is', 'forever', 'his', 'place']\n"
     ]
    }
   ],
   "source": [
    "def get_words_list(text):\n",
    "\n",
    "    text = text.lower()\n",
    "    text = text.replace(',', '')\n",
    "    text = text.replace('.', '')\n",
    "    text = text.replace(';', '')\n",
    "    text = text.replace(':', '')\n",
    "    text = text.replace('...', '')\n",
    "    text = text.replace('!', '')\n",
    "    text = text.replace('?', '')\n",
    "    text = text.replace('-', '')\n",
    "    text = text.replace('\"', '')\n",
    "    text = text.replace('(', '')\n",
    "    text = text.replace(')', '')\n",
    "    text = text.split()\n",
    "\n",
    "    return  text\n",
    "\n",
    "text_example = \"Arrakis, the planet known as Dune, is forever his place.\"\n",
    "print(get_words_list(text=text_example))"
   ]
  },
  {
   "cell_type": "code",
   "execution_count": 379,
   "metadata": {
    "collapsed": false
   },
   "outputs": [
    {
     "name": "stdout",
     "output_type": "stream",
     "text": [
      "['and', 'arrakis', 'as', 'be', 'born', 'by', 'caladan', 'care', 'deceived', 'do', 'dune', 'fact', 'fifteen', 'first', 'forever', 'he', 'his', 'in', 'is', 'known', 'lived', 'locate', 'most', \"muad'dib\", 'not', 'on', 'place', 'planet', 'special', 'take', 'that', 'the', 'there', 'was', 'years', 'you']\n"
     ]
    }
   ],
   "source": [
    "def get_unique_words(words_list):\n",
    "    new_words_list = []\n",
    "\n",
    "    for x in words_list:\n",
    "        if x not in new_words_list:\n",
    "            new_words_list.append(x)\n",
    "    return sorted(new_words_list)\n",
    "\n",
    "words_list_example = ['and', 'take', 'the', 'most', 'special', 'care', 'that', 'you', 'locate', \"muad'dib\", 'in', 'his', 'place', 'the', 'planet', 'arrakis', 'do', 'not', 'be', 'deceived', 'by', 'the', 'fact', 'that', 'he', 'was', 'born', 'on', 'caladan', 'and', 'lived', 'his', 'first', 'fifteen', 'years', 'there', 'arrakis', 'the', 'planet', 'known', 'as', 'dune', 'is', 'forever', 'his', 'place']\n",
    "\n",
    "print(get_unique_words(words_list=words_list_example))"
   ]
  },
  {
   "cell_type": "code",
   "execution_count": 492,
   "metadata": {
    "collapsed": false
   },
   "outputs": [
    {
     "name": "stdout",
     "output_type": "stream",
     "text": [
      "и\n"
     ]
    }
   ],
   "source": [
    "def get_most_frequent_word(text):\n",
    "\n",
    "    def get_words_list():\n",
    "        nonlocal text\n",
    "        text = text.lower()\n",
    "        text = text.replace(',', '')\n",
    "        text = text.replace('.', '')\n",
    "        text = text.replace(';', '')\n",
    "        text = text.replace(':', '')\n",
    "        text = text.replace('...', '')\n",
    "        text = text.replace('!', '')\n",
    "        text = text.replace('?', '')\n",
    "        text = text.replace('-', '')\n",
    "        text = text.replace('\"', '')\n",
    "        text = text.replace('(', '')\n",
    "        text = text.replace(')', '')\n",
    "        text = text.split()\n",
    "        return text\n",
    "    text = get_words_list()\n",
    "    new_text = dict()\n",
    "\n",
    "    for x in text:\n",
    "        if x not in new_text.keys():\n",
    "            new_text.update({x: 1})\n",
    "        else:\n",
    "            y = new_text[x] + 1\n",
    "            new_text.update({x: y})\n",
    "\n",
    "    newval_text = sorted(new_text.values())\n",
    "\n",
    "    z = newval_text[-1]\n",
    "\n",
    "    for i in new_text:\n",
    "        if z == new_text[i]:\n",
    "            return i\n",
    "\n",
    "\n",
    "text_example = \"Есть урок, который идет не сорок пять минут, а всю жизнь. Этот урок проходит и в классе, и в поле, и дома, и в лесу. Я назвал этот урок седьмым потому, что в школе обычно бывает не больше шести уроков. Не удивляйтесь, если я скажу, что учителем на этом уроке может быть и береза возле вашего дома, и бабушка, и вы сами (В. Песков)\"\n",
    "print(get_most_frequent_word(text_example))"
   ]
  },
  {
   "cell_type": "code",
   "execution_count": 505,
   "metadata": {
    "collapsed": false
   },
   "outputs": [
    {
     "name": "stdout",
     "output_type": "stream",
     "text": [
      "[('Amanda', 37, 78, 67, 182), ('Marcos', 79, 67, 89, 235), ('Dmitry', 67, 68, 100, 235), ('Patricia', 78, 93, 68, 239), ('Andrey', 100, 78, 76, 254), ('Victoria', 93, 69, 96, 258)]\n"
     ]
    }
   ],
   "source": [
    "def get_total_score(data):\n",
    "    new_data = []\n",
    "\n",
    "    for x in data:\n",
    "        d = x[1] + x[2] + x[3]\n",
    "        y = (x[0], x[1], x[2], x[3], d)\n",
    "        new_data.append(y)\n",
    "\n",
    "    return sorted(new_data, key=lambda x: x[4])\n",
    "\n",
    "data = [\n",
    "    ('Amanda', 37, 78, 67),\n",
    "    ('Patricia', 78, 93, 68),\n",
    "    ('Marcos', 79, 67, 89),\n",
    "    ('Dmitry', 67, 68, 100),\n",
    "    ('Andrey', 100, 78, 76),\n",
    "    ('Victoria', 93, 69, 96),\n",
    "]\n",
    "\n",
    "print(get_total_score(data))"
   ]
  },
  {
   "cell_type": "code",
   "execution_count": 538,
   "metadata": {
    "collapsed": false
   },
   "outputs": [
    {
     "ename": "NameError",
     "evalue": "name 'l' is not defined",
     "output_type": "error",
     "traceback": [
      "\u001B[0;31m---------------------------------------------------------------------------\u001B[0m",
      "\u001B[0;31mNameError\u001B[0m                                 Traceback (most recent call last)",
      "\u001B[0;32m<ipython-input-538-4e858ba7af0a>\u001B[0m in \u001B[0;36m<module>\u001B[0;34m\u001B[0m\n\u001B[1;32m     42\u001B[0m }\n\u001B[1;32m     43\u001B[0m \u001B[0;34m\u001B[0m\u001B[0m\n\u001B[0;32m---> 44\u001B[0;31m \u001B[0mprint\u001B[0m\u001B[0;34m(\u001B[0m\u001B[0mfind_video\u001B[0m\u001B[0;34m(\u001B[0m\u001B[0mdata\u001B[0m\u001B[0;34m)\u001B[0m\u001B[0;34m)\u001B[0m\u001B[0;34m\u001B[0m\u001B[0;34m\u001B[0m\u001B[0m\n\u001B[0m",
      "\u001B[0;32m<ipython-input-538-4e858ba7af0a>\u001B[0m in \u001B[0;36mfind_video\u001B[0;34m(data)\u001B[0m\n\u001B[1;32m      7\u001B[0m         \u001B[0;32mif\u001B[0m \u001B[0misinstance\u001B[0m\u001B[0;34m(\u001B[0m\u001B[0mn\u001B[0m\u001B[0;34m,\u001B[0m \u001B[0mlist\u001B[0m\u001B[0;34m)\u001B[0m \u001B[0;32mand\u001B[0m \u001B[0msearch\u001B[0m\u001B[0;34m(\u001B[0m\u001B[0mn\u001B[0m\u001B[0;34m,\u001B[0m \u001B[0mn\u001B[0m\u001B[0;34m)\u001B[0m\u001B[0;34m:\u001B[0m\u001B[0;34m\u001B[0m\u001B[0;34m\u001B[0m\u001B[0m\n\u001B[1;32m      8\u001B[0m             \u001B[0;32mreturn\u001B[0m \u001B[0;32mTrue\u001B[0m\u001B[0;34m\u001B[0m\u001B[0;34m\u001B[0m\u001B[0m\n\u001B[0;32m----> 9\u001B[0;31m         \u001B[0;32mif\u001B[0m \u001B[0ml\u001B[0m \u001B[0;34m==\u001B[0m \u001B[0mn\u001B[0m\u001B[0;34m:\u001B[0m\u001B[0;34m\u001B[0m\u001B[0;34m\u001B[0m\u001B[0m\n\u001B[0m\u001B[1;32m     10\u001B[0m             \u001B[0;32mreturn\u001B[0m \u001B[0;32mTrue\u001B[0m\u001B[0;34m\u001B[0m\u001B[0;34m\u001B[0m\u001B[0m\n\u001B[1;32m     11\u001B[0m     \u001B[0;32mreturn\u001B[0m \u001B[0;32mFalse\u001B[0m\u001B[0;34m\u001B[0m\u001B[0;34m\u001B[0m\u001B[0m\n",
      "\u001B[0;31mNameError\u001B[0m: name 'l' is not defined"
     ]
    }
   ],
   "source": [
    "def find_video(data):\n",
    "\n",
    "    new_data = []\n",
    "    x = 'videoID'\n",
    "\n",
    "    for x in data:\n",
    "        if x == 'videoID':\n",
    "            new_data.append(data['videoID'])\n",
    "        else:\n",
    "            for y in x:\n",
    "                print(y)\n",
    "\n",
    "\n",
    "\n",
    "\n",
    "\n",
    "data = {\n",
    "    \"type\": \"video\",\n",
    "    \"videoID\": \"vid001\",\n",
    "    \"links\": [\n",
    "        {\"type\":\"video\", \"\":\"vid002\", \"links\":[]},\n",
    "        {   \"type\":\"video\",\n",
    "            \"videoID\":\"vid003\",\n",
    "            \"links\": [\n",
    "                {\"type\": \"video\", \"videoID\":\"vid004\"},\n",
    "                {\"type\": \"video\", \"videoID\":\"vid005\"},\n",
    "            ]\n",
    "            },\n",
    "        {\"type\":\"video\", \"videoID\":\"vid006\"},\n",
    "        {   \"type\":\"video\",\n",
    "            \"videoID\":\"vid007\",\n",
    "            \"links\": [\n",
    "                {\"type\":\"video\", \"videoID\":\"vid008\", \"links\": [\n",
    "                    {   \"type\":\"video\",\n",
    "                        \"videoID\":\"vid009\",\n",
    "                        \"links\": [{\"type\":\"video\", \"videoID\":\"vid010\"}]\n",
    "                        }\n",
    "                ]}\n",
    "            ]},\n",
    "    ]\n",
    "}\n",
    "\n",
    "print(find_video(data))"
   ]
  },
  {
   "cell_type": "code",
   "execution_count": 572,
   "metadata": {
    "collapsed": false
   },
   "outputs": [
    {
     "name": "stdout",
     "output_type": "stream",
     "text": [
      "{'пармезан': 29, 'гауда': 27, 'камамбер': 24, 'бри': 28}\n"
     ]
    }
   ],
   "source": [
    "def filter_by_fat(cheese_data, n):\n",
    "\n",
    "    new_cheese_data = {}\n",
    "\n",
    "    for x in cheese_data:\n",
    "        y = cheese_data[x]\n",
    "        if y[2] < n:\n",
    "            new_cheese_data.update({x: y[2]})\n",
    "\n",
    "    return new_cheese_data\n",
    "\n",
    "cheese_data = {\n",
    "    'чеддер': [370, 5000, 33, 'твердый'],\n",
    "    'пармезан': [510, 4000, 29, 'твердый'],\n",
    "    'гауда': [250, 3700, 27, 'полутвердый'],\n",
    "    'эдам': [220, 10000, 30, 'полутвердый'],\n",
    "    'горгонзола': [320, 3000, 32, 'полумягкий'],\n",
    "    'рокфор': [340, 15000, 31, 'полумягкий'],\n",
    "    'стилтон': [360, 7000, 35, 'полумягкий'],\n",
    "    'камамбер': [250, 8000, 24, 'мягкий'],\n",
    "    'бри': [310, 6500, 28, 'мягкий'],\n",
    "}\n",
    "\n",
    "print(filter_by_fat(cheese_data, n=30))"
   ]
  },
  {
   "cell_type": "code",
   "execution_count": 575,
   "metadata": {
    "collapsed": false
   },
   "outputs": [
    {
     "name": "stdout",
     "output_type": "stream",
     "text": [
      "3700\n",
      "5100\n",
      "2500\n",
      "2200\n",
      "3200\n",
      "3400\n",
      "3600\n",
      "2500\n",
      "3100\n",
      "196100000\n"
     ]
    }
   ],
   "source": [
    "def count_money(cheese_data):\n",
    "    sum = 0\n",
    "\n",
    "    for x in cheese_data:\n",
    "        y = cheese_data[x]\n",
    "        a = y[0] * 10\n",
    "        b = y[1]\n",
    "        sum = sum + a * b\n",
    "\n",
    "    return sum\n",
    "\n",
    "cheese_data = {\n",
    "    'чеддер': [370, 5000, 33, 'твердый'],\n",
    "    'пармезан': [510, 4000, 29, 'твердый'],\n",
    "    'гауда': [250, 3700, 27, 'полутвердый'],\n",
    "    'эдам': [220, 10000, 30, 'полутвердый'],\n",
    "    'горгонзола': [320, 3000, 32, 'полумягкий'],\n",
    "    'рокфор': [340, 15000, 31, 'полумягкий'],\n",
    "    'стилтон': [360, 7000, 35, 'полумягкий'],\n",
    "    'камамбер': [250, 8000, 24, 'мягкий'],\n",
    "    'бри': [310, 6500, 28, 'мягкий'],\n",
    "}\n",
    "\n",
    "print(count_money(cheese_data))"
   ]
  },
  {
   "cell_type": "code",
   "execution_count": 10,
   "metadata": {
    "collapsed": false
   },
   "outputs": [
    {
     "data": {
      "text/plain": [
       "['горгонзола', 'рокфор', 'стилтон']"
      ]
     },
     "execution_count": 10,
     "metadata": {},
     "output_type": "execute_result"
    }
   ],
   "source": [
    "def find_cheese_type(cheese_data, cheese_type):\n",
    "\n",
    "    cheese_out = []\n",
    "\n",
    "    for x in cheese_data:\n",
    "        y = cheese_data[x]\n",
    "        if y[3] == cheese_type:\n",
    "            cheese_out.append(x)\n",
    "\n",
    "    return cheese_out\n",
    "\n",
    "cheese_data = {\n",
    "    'чеддер': [370, 5000, 33, 'твердый'],\n",
    "    'пармезан': [510, 4000, 29, 'твердый'],\n",
    "    'гауда': [250, 3700, 27, 'полутвердый'],\n",
    "    'эдам': [220, 10000, 30, 'полутвердый'],\n",
    "    'горгонзола': [320, 3000, 32, 'полумягкий'],\n",
    "    'рокфор': [340, 15000, 31, 'полумягкий'],\n",
    "    'стилтон': [360, 7000, 35, 'полумягкий'],\n",
    "    'камамбер': [250, 8000, 24, 'мягкий'],\n",
    "    'бри': [310, 6500, 28, 'мягкий'],\n",
    "}\n",
    "\n",
    "find_cheese_type(cheese_data, cheese_type='полумягкий')\n"
   ]
  },
  {
   "cell_type": "code",
   "execution_count": 18,
   "metadata": {
    "collapsed": false
   },
   "outputs": [
    {
     "name": "stdout",
     "output_type": "stream",
     "text": [
      "['эдам', 'гауда', 'камамбер', 'бри', 'горгонзола', 'рокфор', 'стилтон', 'чеддер', 'пармезан']\n"
     ]
    }
   ],
   "source": [
    "def sort_cheese(cheese_data):\n",
    "\n",
    "    cheese_price = {}\n",
    "\n",
    "    for x in cheese_data:\n",
    "        y = cheese_data[x]\n",
    "        cheese_price.update({x:y[0]})\n",
    "\n",
    "    cheese_price = sorted(cheese_price, key=cheese_price.get)\n",
    "\n",
    "    return cheese_price\n",
    "\n",
    "cheese_data = {\n",
    "    'чеддер': [370, 5000, 33, 'твердый'],\n",
    "    'пармезан': [510, 4000, 29, 'твердый'],\n",
    "    'гауда': [250, 3700, 27, 'полутвердый'],\n",
    "    'эдам': [220, 10000, 30, 'полутвердый'],\n",
    "    'горгонзола': [320, 3000, 32, 'полумягкий'],\n",
    "    'рокфор': [340, 15000, 31, 'полумягкий'],\n",
    "    'стилтон': [360, 7000, 35, 'полумягкий'],\n",
    "    'камамбер': [250, 8000, 24, 'мягкий'],\n",
    "    'бри': [310, 6500, 28, 'мягкий'],\n",
    "}\n",
    "\n",
    "print(sort_cheese(cheese_data))"
   ]
  },
  {
   "cell_type": "code",
   "execution_count": 48,
   "metadata": {
    "collapsed": false
   },
   "outputs": [
    {
     "name": "stdout",
     "output_type": "stream",
     "text": [
      "Вы продублировали ингредиент молоко коровье в заказе 3 раз(а)\n",
      "Вы продублировали ингредиент молоко овечье в заказе 2 раз(а)\n",
      "Вы продублировали ингредиент бактерии в заказе 2 раз(а)\n",
      "Вы продублировали ингредиент соль в заказе 3 раз(а)\n"
     ]
    }
   ],
   "source": [
    "def purchase(ingredients):\n",
    "\n",
    "    order = {}\n",
    "    n = 0\n",
    "    i = 0\n",
    "\n",
    "    for x in ingredients:\n",
    "        if x not in order:\n",
    "            order.update({x: 1})\n",
    "        else:\n",
    "            n = order[x] + 1\n",
    "            order.update({x: n})\n",
    "\n",
    "    for y in order:\n",
    "        if order[y] > 1:\n",
    "            print('Вы продублировали ингредиент {} в заказе {} раз(а)'.format(y, order[y]))\n",
    "\n",
    "    for z in order:\n",
    "        n = n + order[z]\n",
    "        i += 1\n",
    "\n",
    "    if n == i:\n",
    "        print('Ваш заказ оформлен верно')\n",
    "\n",
    "ingredients = ['молоко коровье', 'молоко овечье', 'бактерии', 'молоко козье', 'сливки', 'фермент', 'закваска', 'молоко коровье', 'соль', 'молоко коровье', 'бактерии', 'молоко овечье', 'кислота лимонная', 'грибки', 'соль', 'дрожжи', 'кислота уксусная', 'кальций', 'калий', 'каротин', 'аннато', 'специя', 'пряность', 'ароматизатор', 'соль', 'кислота молочная']\n",
    "\n",
    "\n",
    "\n",
    "purchase(ingredients)"
   ]
  },
  {
   "cell_type": "code",
   "execution_count": 60,
   "metadata": {
    "collapsed": false
   },
   "outputs": [
    {
     "name": "stdout",
     "output_type": "stream",
     "text": [
      "6\n"
     ]
    }
   ],
   "source": [
    "def holes_count(number):\n",
    "    hole = 0\n",
    "    number = str(number)\n",
    "\n",
    "    for x in number:\n",
    "        if x == '8':\n",
    "            hole = hole + 2\n",
    "        elif x == '4' or x == '6' or x == '9' or x == '0':\n",
    "            hole = hole + 1\n",
    "    return hole\n",
    "\n",
    "print(holes_count(84628))"
   ]
  },
  {
   "cell_type": "code",
   "execution_count": 172,
   "metadata": {
    "collapsed": false
   },
   "outputs": [
    {
     "data": {
      "text/plain": [
       "['249', '189', '202', '24']"
      ]
     },
     "execution_count": 172,
     "metadata": {},
     "output_type": "execute_result"
    }
   ],
   "source": [
    "input_string1 = input('Введите 1-ую последовательность идентификаторов: ')\n",
    "input_string2 = input('Введите 2-ую последовательность идентификаторов: ')\n",
    "# ваш код здесь\n",
    "\n",
    "def pure_intersection():\n",
    "\n",
    "\n",
    "    #Создаем пустой список для пересечений\n",
    "    c = []\n",
    "\n",
    "    #Создаем список из первого ввода\n",
    "    a = input_string1.split(', ')\n",
    "    #Запускаем цикл для проверки корректности ввода в первом поле\n",
    "    for ax in a:\n",
    "        #Проверяем состоит ли он только из цифр, если нет, то останавливаем функцию и возвращаем сообщение о некорректности ввода\n",
    "        if not ax.isdigit():\n",
    "            return print('Некорректный ввод')\n",
    "\n",
    "    #Создаем список из второго ввода\n",
    "    b = input_string2.split(', ')\n",
    "    #Запускаем цикл для проверки корректности ввода во втором поле\n",
    "    for bx in b:\n",
    "        #Проверяем состоит ли он только из цифр, если нет, то останавливаем функцию и возвращаем сообщение о некорректности ввода\n",
    "        if not bx.isdigit():\n",
    "            return print('Некорректный ввод')\n",
    "\n",
    "    #Создаем множество с элементами пересечения в списках\n",
    "    d = set(a).intersection(set(b))\n",
    "\n",
    "    #Преобразовываем множество в список с пересечениями\n",
    "    for y in d:\n",
    "        c.append(y)\n",
    "\n",
    "    #Возвращаем список с пересечениями\n",
    "    return c\n",
    "\n",
    "pure_intersection()"
   ]
  },
  {
   "cell_type": "code",
   "execution_count": 169,
   "metadata": {
    "collapsed": false
   },
   "outputs": [
    {
     "name": "stdout",
     "output_type": "stream",
     "text": [
      "Minimum: -37.5\n",
      "Maximim: 25.002\n"
     ]
    }
   ],
   "source": [
    "input_string = input('Введите последовательность чисел: ')\n",
    "# ваш код здесь\n",
    "\n",
    "def find_min_max():\n",
    "    #Указываем что объект объявлен вне функции, в основном блоке программы\n",
    "    global input_string\n",
    "\n",
    "    #Создаем пустой список для поиска минимума и максимума\n",
    "    out = []\n",
    "\n",
    "    #Заменяем в водимых данных запятую на точку\n",
    "    input_string = input_string.replace(',', '.')\n",
    "\n",
    "    #Преобразуем полученную строку в список\n",
    "    input_string = input_string.split()\n",
    "\n",
    "    #Запускаем цикл для создания нового списка, в котором мы сможем найти минимум и максимум\n",
    "    for x in input_string:\n",
    "        #Проверяем не состоит ли строка из букв\n",
    "        if not x.isalpha():\n",
    "            #Преобразуем строку в формат float\n",
    "            x = float(x)\n",
    "            #Записываем полученное значение в новый список\n",
    "            out.append(x)\n",
    "\n",
    "    #Ищем минимум в новом списке и выводим его\n",
    "    a = min(out)\n",
    "    print('Minimum: {}'.format(a))\n",
    "\n",
    "    #Ищем максимум в новом списке и выводим его\n",
    "    b = max(out)\n",
    "    print('Maximim: {}'.format(b))\n",
    "\n",
    "find_min_max()"
   ]
  },
  {
   "cell_type": "code",
   "execution_count": 219,
   "metadata": {
    "collapsed": false
   },
   "outputs": [
    {
     "name": "stdout",
     "output_type": "stream",
     "text": [
      "Median: 3.0\n"
     ]
    }
   ],
   "source": [
    "input_string = input('Введите последовательность чисел: ')\n",
    "# ваш код здесь\n",
    "\n",
    "def find_median():\n",
    "    #Указываем что объект объявлен вне функции, в основном блоке программы\n",
    "    global input_string\n",
    "\n",
    "    #Создаем пустой список для поиска минимума и максимума\n",
    "    out = []\n",
    "\n",
    "    #Создаем список из ввода\n",
    "    input_string = input_string.split(', ')\n",
    "\n",
    "    #Запускаем цикл для проверки корректности ввода и создания списка для работы\n",
    "    for x in input_string:\n",
    "        #Проверяем состоит ли он только из цифр, если нет, то останавливаем функцию и возвращаем сообщение о некорректности ввода\n",
    "        if not x.isdigit():\n",
    "            return print('Некорректный ввод')\n",
    "        #Если все в порядке то создаем список для работы\n",
    "        else:\n",
    "            #Преобразуем строку в формат float\n",
    "            x = float(x)\n",
    "            #Записываем полученное значение в новый список\n",
    "            out.append(x)\n",
    "\n",
    "    #Сортируем список\n",
    "    out.sort()\n",
    "\n",
    "    #Определяем количество элементов в рабочем списке\n",
    "    n = len(out)\n",
    "\n",
    "    #Если количество элементов четное\n",
    "    if n%2 == 0:\n",
    "        #Определяем позицию второго среднего значения\n",
    "        position =  int(n / 2)\n",
    "        #Вычисляем медиану\n",
    "        mediana = (out[position -1] + out[position])/2\n",
    "        #Возвращаем медиану\n",
    "        print('Median: {}'.format(mediana))\n",
    "\n",
    "    #Если количество элементов нечетное\n",
    "    else:\n",
    "        #Определяем позицию среднего значения\n",
    "        position =  int(n // 2)\n",
    "        #Вычисляем медиану\n",
    "        mediana = out[position]\n",
    "        #Возвращаем медиану\n",
    "        print('Median: {}'.format(mediana))\n",
    "\n",
    "find_median()"
   ]
  },
  {
   "cell_type": "code",
   "execution_count": 261,
   "metadata": {
    "collapsed": false
   },
   "outputs": [
    {
     "name": "stdout",
     "output_type": "stream",
     "text": [
      "['двадцать']\n",
      "9\n"
     ]
    }
   ],
   "source": [
    "#input_string = input('Введите число словами: ')\n",
    "# ваш код здесь\n",
    "\n",
    "input_string = 'двадцать'\n",
    "\n",
    "def transform_string_to_integer():\n",
    "\n",
    "    number_word_dict = {\n",
    "        \"ты\": 1000, \"м\": 1000000,\n",
    "        \"сто\": 100, \"двес\": 200, \"трис\": 300, \"четырес\": 400, \"пятьс\": 500, \"шестьс\": 600, \"семьс\": 700, \"восемьс\": 800, \"девятьс\": 900,\n",
    "        \"одинн\": 11, \"двен\": 12, \"трин\": 13, \"четырн\": 14, \"пятн\": 15, \"шестн\": 16, \"семн\": 17, \"восемн\": 18, \"девятн\": 19,\n",
    "        \"двад\": 20, \"трид\": 30, \"сор\": 40, \"пятьд\": 50, \"шестьд\": 60, \"семьд\": 70, \"восемьд\": 80, \"девяно\": 90,\n",
    "        \"деc\": 10, \"н\": 0, \"о\": 1, \"дв\": 2, \"т\": 3, \"ч\": 4, \"п\": 5, \"ш\": 6, \"с\": 7, \"в\": 8, \"д\": 9, }\n",
    "\n",
    "    #Указываем что объект объявлен вне функции, в основном блоке программы\n",
    "    global input_string\n",
    "\n",
    "    s = 0\n",
    "\n",
    "    #Создаем список из ввода\n",
    "    out = input_string.split(' ')\n",
    "\n",
    "    print(out)\n",
    "\n",
    "    for i in number_word_dict:\n",
    "        s = number_word_dict[i]\n",
    "\n",
    "    #Определяем количество элементов в рабочем списке\n",
    "    n = len(out)\n",
    "\n",
    "    if n == 1:\n",
    "        for x in number_word_dict:\n",
    "            y = str(out[0])\n",
    "            if y.startswith(x,0,5):\n",
    "                s = number_word_dict[x]\n",
    "\n",
    "\n",
    "\n",
    "    print(s)\n",
    "\n",
    "transform_string_to_integer()"
   ]
  },
  {
   "cell_type": "code",
   "execution_count": 9,
   "metadata": {
    "collapsed": false
   },
   "outputs": [
    {
     "data": {
      "text/plain": [
       "23"
      ]
     },
     "execution_count": 9,
     "metadata": {},
     "output_type": "execute_result"
    }
   ],
   "source": [
    "#input_string = input('Введите число словами: ')\n",
    "# ваш код здесь\n",
    "\n",
    "input_string = 'двадцать три'\n",
    "\n",
    "def transform_string_to_integer():\n",
    "\n",
    "    number_word_dict = {\n",
    "        \"ты\": 1000, \"м\": 1000000,\n",
    "        \"сто\": 100, \"двес\": 200, \"трис\": 300, \"четырес\": 400, \"пятьс\": 500, \"шестьс\": 600, \"семьс\": 700, \"восемьс\": 800, \"девятьс\": 900,\n",
    "        \"одинн\": 11, \"двен\": 12, \"трин\": 13, \"четырн\": 14, \"пятн\": 15, \"шестн\": 16, \"семн\": 17, \"восемн\": 18, \"девятн\": 19,\n",
    "        \"двад\": 20, \"трид\": 30, \"сор\": 40, \"пятьд\": 50, \"шестьд\": 60, \"семьд\": 70, \"восемьд\": 80, \"девяно\": 90,\n",
    "        \"деc\": 10, \"н\": 0, \"о\": 1, \"дв\": 2, \"т\": 3, \"ч\": 4, \"п\": 5, \"ш\": 6, \"с\": 7, \"в\": 8, \"д\": 9, }\n",
    "\n",
    "    #Указываем что объект объявлен вне функции, в основном блоке программы\n",
    "    global input_string\n",
    "\n",
    "    #Создаем список из ввода\n",
    "    out = input_string.split(' ')\n",
    "\n",
    "    #Определяем количество элементов в рабочем списке\n",
    "    n = len(out)\n",
    "\n",
    "    if n == 1:\n",
    "        for x in number_word_dict:\n",
    "            y = str(out[0])\n",
    "            if y.startswith(x):\n",
    "                s = number_word_dict[x]\n",
    "                return s\n",
    "\n",
    "    elif n == 2:\n",
    "        for x in number_word_dict:\n",
    "            y1 = str(out[0])\n",
    "            if y1.startswith(x):\n",
    "                s1 = number_word_dict[x]\n",
    "                break\n",
    "        for x in number_word_dict:\n",
    "            y2 =  str(out[1])\n",
    "            if y2.startswith(x):\n",
    "                s2 = number_word_dict[x]\n",
    "                break\n",
    "        s = s1 + s2\n",
    "        return s\n",
    "\n",
    "transform_string_to_integer()"
   ]
  },
  {
   "cell_type": "code",
   "execution_count": 1,
   "metadata": {
    "collapsed": false
   },
   "outputs": [
    {
     "data": {
      "text/plain": [
       "242"
      ]
     },
     "execution_count": 1,
     "metadata": {},
     "output_type": "execute_result"
    }
   ],
   "source": [
    "input_string = input('Введите число словами: ')\n",
    "# ваш код здесь\n",
    "\n",
    "def transform_string_to_integer():\n",
    "    #Подключаем словарь\n",
    "    number_word_dict = {\n",
    "        \"ты\": 1000, \"м\": 1000000,\n",
    "        \"сто\": 100, \"двес\": 200, \"трис\": 300, \"четырес\": 400, \"пятьс\": 500, \"шестьс\": 600, \"семьс\": 700, \"восемьс\": 800, \"девятьс\": 900,\n",
    "        \"одинн\": 11, \"двен\": 12, \"трин\": 13, \"четырн\": 14, \"пятн\": 15, \"шестн\": 16, \"семн\": 17, \"восемн\": 18, \"девятн\": 19,\n",
    "        \"двад\": 20, \"трид\": 30, \"сор\": 40, \"пятьд\": 50, \"шестьд\": 60, \"семьд\": 70, \"восемьд\": 80, \"девяно\": 90,\n",
    "        \"деc\": 10, \"н\": 0, \"о\": 1, \"дв\": 2, \"т\": 3, \"ч\": 4, \"п\": 5, \"ш\": 6, \"с\": 7, \"в\": 8, \"д\": 9, }\n",
    "\n",
    "    #Указываем что объект объявлен вне функции, в основном блоке программы\n",
    "    global input_string\n",
    "\n",
    "    #Создаем список из ввода\n",
    "    out = input_string.split(' ')\n",
    "\n",
    "    #Определяем количество элементов в рабочем списке\n",
    "    n = len(out)\n",
    "\n",
    "    #Если нв строке ввода упомянут миллион, то возвращаем максимальное значение\n",
    "    if 'миллион' in out or 'миллионов' in out:\n",
    "        return print('1000000')\n",
    "\n",
    "    #Если в строке ввода упомянута тысяча\n",
    "    elif 'тысячи' in out or 'тысяч' in out or 'тысяча' in out:\n",
    "        #Определяем переменные\n",
    "        #Шаг для цикла\n",
    "        i = 0\n",
    "        #Часть конечного числа более тысячи\n",
    "        s1 = 0\n",
    "        #Часть конечного числа менее тысячи\n",
    "        s2 = 0\n",
    "        #Положение производной слова \"тысяча\"\n",
    "        nn = 0\n",
    "\n",
    "        #Выясняем порядковый номер производных слова \"тысяча\" и присваиваем переменной 'nn'\n",
    "        for t in out:\n",
    "            nn += 1\n",
    "            if 'тысячи' in t or 'тысяч' in t or 'тысяча' in t:\n",
    "                break\n",
    "\n",
    "        #Считаем числа больше одной тысячи и записываем в переменную 's1'\n",
    "        #Выполняем цикл по количеству значений цифр больше тысячи\n",
    "        while i < (nn - 1):\n",
    "            #Цикл для сопоставления выбранного значения цифры и словаря\n",
    "            for x in number_word_dict:\n",
    "                #Присваиваем переменной название цифры\n",
    "                y = str(out[i])\n",
    "                #Проверяем соответствие названия цифры и ее значения в словаре\n",
    "                if y.startswith(x):\n",
    "                    #Записываем значение в переменную\n",
    "                    s1 = s1 + number_word_dict[x]\n",
    "                    #Увеличиваем шаг на 1\n",
    "                    i += 1\n",
    "                    #Останавливаем цикл\n",
    "                    break\n",
    "        #Увеличиваем полученное значение в тысячу раз, тк это тысячи\n",
    "        s1 = s1 * 1000\n",
    "\n",
    "        #Переопределяем переменную 'i', явно указывая с какого места считать числа меньше тысячи\n",
    "        i = (nn)\n",
    "\n",
    "        #Считаем числа меньше одной тысячи и записываем в переменную 's2'\n",
    "        #Выполняем цикл по количеству значений цифр меньше тысячи\n",
    "        while i < n:\n",
    "            #Цикл для сопоставления выбранного значения цифры и словаря\n",
    "            for x in number_word_dict:\n",
    "                #Присваиваем переменной название цифры\n",
    "                y = str(out[i])\n",
    "                #Проверяем соответствие названия цифры и ее значения в словаре\n",
    "                if y.startswith(x):\n",
    "                    #Записываем значение в переменную\n",
    "                    s2 = s2 + number_word_dict[x]\n",
    "                    #Увеличиваем шаг на 1\n",
    "                    i += 1\n",
    "                    #Останавливаем цикл\n",
    "                    break\n",
    "\n",
    "        #Складываем значения переменных больше тысячи и меньше тысячи\n",
    "        s = s1 + s2\n",
    "\n",
    "        #Возвращаем результат\n",
    "        return s\n",
    "\n",
    "    #Все остальные случаи, меньше тысячи\n",
    "    else:\n",
    "\n",
    "        #Определяем переменные\n",
    "        #Шаг для цикла\n",
    "        i = 0\n",
    "        #Конечное число\n",
    "        s = 0\n",
    "\n",
    "        #Выполняем цикл по количеству значений цифр меньше тысячи\n",
    "        while i < n:\n",
    "            #Цикл для сопоставления выбранного значения цифры и словаря\n",
    "            for x in number_word_dict:\n",
    "                #Присваиваем переменной название цифры\n",
    "                y = str(out[i])\n",
    "                #Проверяем соответствие названия цифры и ее значения в словаре\n",
    "                if y.startswith(x):\n",
    "                    #Записываем значение в переменную\n",
    "                    s = s + number_word_dict[x]\n",
    "                    #Увеличиваем шаг на 1\n",
    "                    i += 1\n",
    "                    #Останавливаем цикл\n",
    "                    break\n",
    "\n",
    "        #Возвращаем результат\n",
    "        return s\n",
    "\n",
    "\n",
    "transform_string_to_integer()"
   ]
  },
  {
   "cell_type": "code",
   "execution_count": 4,
   "metadata": {
    "collapsed": false
   },
   "outputs": [
    {
     "name": "stdout",
     "output_type": "stream",
     "text": [
      "Количество попыток: 188\n"
     ]
    }
   ],
   "source": [
    "import numpy as np\n",
    "\n",
    "def random_predict(number:int=1) -> int:\n",
    "    \"\"\"Рандомно угадываем число\n",
    "\n",
    "    Args:\n",
    "        number (int, optional): Загаданное число. Defaults to 1.\n",
    "\n",
    "    Returns:\n",
    "        int: Число попыток\n",
    "    \"\"\"\n",
    "\n",
    "    count = 0\n",
    "\n",
    "    while True:\n",
    "        count += 1\n",
    "        predict_number = np.random.randint(1, 101) # предполагаемое число\n",
    "        if number == predict_number:\n",
    "            break # выход из цикла, если угадали\n",
    "    return(count)\n",
    "\n",
    "print(f'Количество попыток: {random_predict()}')"
   ]
  }
 ],
 "metadata": {
  "kernelspec": {
   "display_name": "Python 3",
   "language": "python",
   "name": "python3"
  },
  "language_info": {
   "codemirror_mode": {
    "name": "ipython",
    "version": 3
   },
   "file_extension": ".py",
   "mimetype": "text/x-python",
   "name": "python",
   "nbconvert_exporter": "python",
   "pygments_lexer": "ipython3",
   "version": "3.11.3"
  }
 },
 "nbformat": 4,
 "nbformat_minor": 4
}
